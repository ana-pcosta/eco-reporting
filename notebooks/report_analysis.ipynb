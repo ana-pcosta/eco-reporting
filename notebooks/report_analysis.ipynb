{
 "cells": [
  {
   "cell_type": "code",
   "execution_count": 1,
   "metadata": {},
   "outputs": [],
   "source": [
    "%load_ext autoreload\n",
    "%autoreload 2"
   ]
  },
  {
   "cell_type": "markdown",
   "metadata": {},
   "source": [
    "## Report Analysis\n",
    "The goal of this exploration is to assess wether a company report on climate change is up to the standards provided by EU."
   ]
  },
  {
   "cell_type": "markdown",
   "metadata": {},
   "source": [
    "### What is a good report?\n",
    "The ESRS (European Sustainability Reporting Standards) are an extensive set of standards provided by the EU to define how a climate change report should be built.\n",
    "For the sake of this exploration, we have a condensed version of these normes available.\n",
    "We also have an industry gold standard example of such a report available."
   ]
  },
  {
   "cell_type": "code",
   "execution_count": 2,
   "metadata": {},
   "outputs": [],
   "source": [
    "from ecoreporter.referencehandler import ReferenceHandler\n",
    "from ecoreporter import ROOT_PATH"
   ]
  },
  {
   "cell_type": "code",
   "execution_count": 3,
   "metadata": {},
   "outputs": [],
   "source": [
    "handler = ReferenceHandler(ROOT_PATH+ '/resources')"
   ]
  },
  {
   "cell_type": "code",
   "execution_count": 4,
   "metadata": {},
   "outputs": [],
   "source": [
    "instructions = handler.get_reference_text(\"E1-1_lawText.docx\")"
   ]
  },
  {
   "cell_type": "code",
   "execution_count": 5,
   "metadata": {},
   "outputs": [],
   "source": [
    "## Example of industry best practice report - content relevant is in pages 89-89 and 91\n",
    "example = handler.get_reference_text(\"Orsted-AR-2023.pdf\", [87,88,89,91])"
   ]
  },
  {
   "cell_type": "code",
   "execution_count": 6,
   "metadata": {},
   "outputs": [],
   "source": [
    "company_report = handler.get_reference_text(\"NHB23_Corporate_Responsibility_en.pdf\")"
   ]
  },
  {
   "cell_type": "code",
   "execution_count": 70,
   "metadata": {},
   "outputs": [],
   "source": [
    "from ecoreporter.contentevaluator import ContentEvaluator\n",
    "\n",
    "evaluator = ContentEvaluator()"
   ]
  },
  {
   "cell_type": "code",
   "execution_count": 9,
   "metadata": {},
   "outputs": [],
   "source": [
    "# Extract the main components that should be present in a report, from the\n",
    "# EU instructions, along with their description\n",
    "\n",
    "standard_components = evaluator.extract_standards_components(instructions)"
   ]
  },
  {
   "cell_type": "code",
   "execution_count": 24,
   "metadata": {},
   "outputs": [],
   "source": [
    "# Find each component in a report, and evaluate if it is accurately reported\n",
    "\n",
    "report_gaps = evaluator.evaluate_report_against_standards(company_report,standard_components)"
   ]
  },
  {
   "cell_type": "code",
   "execution_count": null,
   "metadata": {},
   "outputs": [],
   "source": [
    "report_gaps"
   ]
  },
  {
   "cell_type": "code",
   "execution_count": 54,
   "metadata": {},
   "outputs": [],
   "source": [
    "# Do the same thing for a best-practice industry report,\n",
    "# to obtain examples on how information can be reported\n",
    "\n",
    "example_report_gaps = evaluator.evaluate_report_against_standards(example,standard_components)"
   ]
  },
  {
   "cell_type": "code",
   "execution_count": 69,
   "metadata": {},
   "outputs": [
    {
     "data": {
      "text/plain": [
       "['[\\n    {\\n        \"title\": \"Transition Plan Overview\",\\n        \"description\": \"The undertaking shall provide a high-level explanation of its transition plan for climate change mitigation, detailing how its strategy and business model will adapt to ensure compatibility with the transition to a sustainable economy and align with the goal of limiting global warming to 1.5°C in accordance with the Paris Agreement. This overview should outline the commitment to achieving climate neutrality by 2050 and any adjustments made regarding exposure to coal, oil, and gas-related activities.\",\\n        \"is_reported\": true,\\n        \"report_content\": \"Our aspiration is to run a business that creates a lasting positive impact on the environment. This aspiration drives our determination to deliver renewable energy solutions that not only generate green energy but also reduce emissions throughout the manufacturing, transportation, installation, and operation of our renewable energy assets. In doing so, we actively contribute to the transition to an urgently needed net-zero economy. Addressing climate change is at the core of our business model and strategy, with our sustainability commitment and industry-leading science-based 2040 net-zero target as the catalysts behind our efforts to address climate change mitigation and adaptation, energy efficiency, and renewable energy deployment. We are committed to not only measuring and tracking greenhouse gas emissions but also actively working towards their reduction. Our approach for our own operations includes phasing out coal in 2024. We are on track to phase out coal in 2024 and to reduce our scope 1-2 emissions intensity by 98 % by 2025 – two near-term milestones towards our science-based 2040 net-zero target.\"\\n    }\\n]',\n",
       " '[\\n    {\\n        \"title\": \"GHG Emission Reduction Targets\",\\n        \"description\": \"The undertaking must disclose its GHG emission reduction targets, ensuring they are compatible with the objective of limiting global warming to 1.5°C. This includes benchmarking the targets against available sectoral decarbonisation pathways or economy-wide scenarios, explaining how these targets align with the overall transition plan.\",\\n        \"is_reported\": true,\\n        \"report_content\": \"In 2021, Ørsted set a 2040 reduction target for scope 1-3 emissions and became the first energy company with a science-based net-zero target. As of today, we are on track to meet our near-term scope 1-2 intensity target, and we have already met our 2032 absolute scope 3 emissions target. To continue providing clarity on the near-term direction of our decarbonisation efforts, we have developed a portfolio of new near-term targets that outline our 2030 ambitions on the same KPIs that we already use for our 2040 targets. These new targets outline the pathway for our near-term efforts to decarbonise our value chain, while also putting a cap on emissions from natural gas sales based on the substantive reductions we have already achieved. Our new 2030 targets have been submitted to the SBTi and are currently undergoing their formal target validation process. The SBTi expressed that they welcome our more ambitious 2030 decarbonisation targets, which provide a greater visibility on the pathway towards our science-based 2040 net-zero target.\"\\n    }\\n]',\n",
       " '[\\n    {\\n        \"title\": \"Decarbonisation Levers and Key Actions\",\\n        \"description\": \"The report should identify and explain the decarbonisation levers and key actions planned by the undertaking. This includes potential changes in the product and service portfolio, adoption of new technologies, and modifications to operations within the upstream and downstream value chain, linked to the GHG emission reduction targets.\",\\n        \"is_reported\": true,\\n        \"report_content\": \"We have identified and deployed several strategic levers to reduce emissions from our supply chains: Tracking and measuring carbon progress through the development of an in-house model for life cycle assessments (LCAs) ... Engaging with suppliers on the integration of decarbonisation strategies in their operations ... Entering into offtake agreements for low-emission products essential to the energy transition ... Engaging in cross-sector collaborations to drive demand for ground-breaking technologies. Together with other sustainability leaders we pool our purchasing powers to drive demand for technologies needed to decarbonise materials in our operation.\"\\n    }\\n]',\n",
       " '[\\n    {\\n        \"title\": \"Investment and Funding for Transition\",\\n        \"description\": \"A detailed explanation and quantification of the investments and funding supporting the implementation of the transition plan must be provided. This includes references to key performance indicators related to taxonomy-aligned capital expenditures (CapEx) and operational expenditures (OpEx), alongside any relevant CapEx plans.\",\\n        \"is_reported\": true,\\n        \"report_content\": \"We have allocated 99 % of our capital expenditures (CAPEX) towards environmentally sustainable investments aligned with the EU taxonomy. For more information, see the EU taxonomy section.\"\\n    }\\n]',\n",
       " '[\\n    {\\n        \"title\": \"Assessment of Locked-in GHG Emissions\",\\n        \"description\": \"The undertaking must qualitatively assess potential locked-in GHG emissions from key assets and products. This assessment should detail how these emissions may affect the achievement of GHG emission reduction targets and transition risks, along with plans for managing GHG-intensive and energy-intensive assets and products.\",\\n        \"is_reported\": false,\\n        \"report_content\": \"The report discusses the company\\'s sustainability commitments, strategies for decarbonization, and actions taken towards renewable energy deployment but does not explicitly mention an assessment of locked-in GHG emissions from key assets and products, nor does it detail how these emissions may affect GHG reduction targets or transition risks.\"\\n    }\\n]',\n",
       " '[\\n    {\\n        \"title\": \"Alignment with Taxonomy Regulation\",\\n        \"description\": \"For undertakings engaged in economic activities covered by delegated regulations on climate adaptation or mitigation, an explanation of the objectives or plans for aligning their economic activities (revenues, CapEx, OpEx) with the criteria established in the Taxonomy Regulation must be disclosed.\",\\n        \"is_reported\": true,\\n        \"report_content\": \"We have allocated 99 % of our capital expenditures (CAPEX) towards environmentally sustainable investments aligned with the EU taxonomy. For more information, see the EU taxonomy section.\"\\n    }\\n]',\n",
       " '[\\n    {\\n        \"title\": \"CapEx in Coal, Oil, and Gas Activities\",\\n        \"description\": \"The report should disclose any significant CapEx amounts invested during the reporting period related to coal, oil, and gas-related economic activities, providing transparency on financial commitments in these sectors.\",\\n        \"is_reported\": false,\\n        \"report_content\": \"The report does not provide specific CapEx amounts invested in coal, oil, and gas-related activities. It mentions a commitment to phase out coal by 2024 and states that 99% of capital expenditures are aligned with environmentally sustainable investments, but it does not specify any significant investments in coal, oil, or gas during the reporting period.\"\\n    }\\n]',\n",
       " '[\\n    {\\n        \"title\": \"Exclusion from EU Paris-aligned Benchmarks\",\\n        \"description\": \"The undertaking must disclose whether it is excluded from the EU Paris-aligned Benchmarks, including details based on the exclusion criteria outlined in the relevant regulations.\",\\n        \"is_reported\": false,\\n        \"report_content\": \"\"\\n    }\\n]',\n",
       " '[\\n    {\\n        \"title\": \"Integration with Business Strategy\",\\n        \"description\": \"An explanation of how the transition plan is integrated and aligned with the overall business strategy and financial planning of the undertaking should be provided, illustrating the coherence between sustainability efforts and business objectives.\",\\n        \"is_reported\": true,\\n        \"report_content\": \"Addressing climate change is in the core of our business model and strategy, with our sustainability commitment and industry-leading science-based 2040 net-zero target as the catalysts behind our efforts to address climate change mitigation and adaptation, energy efficiency, and renewable energy deployment. Our sustainability commitment and science-based net-zero target are anchored in our Sustainability Committee, chaired by the Chief Financial Officer. Accountability lies with our Head of Global Stakeholder Relations and Chief Operating Officer. We also continue our financial commitment to nature-based projects and the implementation of our own quality considerations, which include proven additionality and positive impacts for local communities and biodiversity. To align our core business activities with our sustainability ambition, we have adopted a science-based target to reach net-zero emissions by 2040, which has been formally validated by the Science Based Targets initiative (SBTi). This overarching target is supported by a suite of near-term and long-term decarbonisation targets across our full value chain. In addition to tracking and monitoring our company-wide emissions reduction progress, we utilise the climate targets internally to anchor our strategic initiatives.\"\\n    }\\n]',\n",
       " '[\\n    {\\n        \"title\": \"Approval and Governance of Transition Plan\",\\n        \"description\": \"The undertaking should disclose whether the transition plan has been approved by its administrative, management, and supervisory bodies, ensuring oversight and governance in the implementation of sustainability strategies.\",\\n        \"is_reported\": true,\\n        \"report_content\": \"Our sustainability commitment and science-based net-zero target are anchored in our Sustainability Committee, chaired by the Chief Financial Officer. Accountability lies with our Head of Global Stakeholder Relations and Chief Operating Officer.\"\\n    }\\n]',\n",
       " '[\\n    {\\n        \"title\": \"Progress in Implementation\",\\n        \"description\": \"Finally, the report must include an explanation of the undertaking’s progress in implementing the transition plan, detailing achieved milestones, ongoing initiatives, and future commitments. If a transition plan is not yet in place, the undertaking should indicate the timeline for its adoption.\",\\n        \"is_reported\": true,\\n        \"report_content\": \"We are on track to phase out coal in 2024 and to reduce our scope 1-2 emissions intensity by 98 % by 2025 – two near-term milestones towards our science based 2040 net-zero target. We will continue to deploy renewable energy and drive down emissions across scope 1-2. In 2025, more than 99 % of our energy generation will come from renewable sources, and in 2030, our ambition is to reach 35-38 GW installed renewable capacity.\"\\n    }\\n]']"
      ]
     },
     "execution_count": 69,
     "metadata": {},
     "output_type": "execute_result"
    }
   ],
   "source": [
    "example_report_gaps"
   ]
  },
  {
   "cell_type": "code",
   "execution_count": 71,
   "metadata": {},
   "outputs": [],
   "source": [
    "evaluation = evaluator.format_final_gap_evaluation(report_gaps, example_report_gaps)"
   ]
  },
  {
   "cell_type": "code",
   "execution_count": 72,
   "metadata": {},
   "outputs": [
    {
     "data": {
      "text/markdown": [
       "### AI Response ###\n",
       "\n",
       "- **Assessment of Locked-in GHG Emissions**: The undertaking must qualitatively assess potential locked-in GHG emissions from key assets and products. This assessment should detail how these emissions may affect the achievement of GHG emission reduction targets and transition risks, along with plans for managing GHG-intensive and energy-intensive assets and products.\n",
       "\n",
       "\n",
       "\n",
       "- **CapEx in Coal, Oil, and Gas Activities**: The report should disclose any significant CapEx amounts invested during the reporting period related to coal, oil, and gas-related economic activities, providing transparency on financial commitments in these sectors.\n",
       "\n",
       "\n",
       "\n",
       "- **Exclusion from EU Paris-aligned Benchmarks**: The undertaking must disclose whether it is excluded from the EU Paris-aligned Benchmarks, including details based on the exclusion criteria outlined in the relevant regulations.\n",
       "\n"
      ],
      "text/plain": [
       "<IPython.core.display.Markdown object>"
      ]
     },
     "metadata": {},
     "output_type": "display_data"
    }
   ],
   "source": [
    "from IPython.display import Markdown, display\n",
    "\n",
    "# Render the AI response as Markdown\n",
    "display(Markdown(f\"### AI Response ###\\n\\n{evaluation}\"))\n"
   ]
  },
  {
   "cell_type": "code",
   "execution_count": null,
   "metadata": {},
   "outputs": [],
   "source": []
  }
 ],
 "metadata": {
  "kernelspec": {
   "display_name": "eco_reporting_venv_dev",
   "language": "python",
   "name": "python3"
  },
  "language_info": {
   "codemirror_mode": {
    "name": "ipython",
    "version": 3
   },
   "file_extension": ".py",
   "mimetype": "text/x-python",
   "name": "python",
   "nbconvert_exporter": "python",
   "pygments_lexer": "ipython3",
   "version": "3.11.11"
  }
 },
 "nbformat": 4,
 "nbformat_minor": 2
}
