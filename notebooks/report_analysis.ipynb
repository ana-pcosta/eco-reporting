{
 "cells": [
  {
   "cell_type": "code",
   "execution_count": 1,
   "metadata": {},
   "outputs": [],
   "source": [
    "%load_ext autoreload\n",
    "%autoreload 2"
   ]
  },
  {
   "cell_type": "markdown",
   "metadata": {},
   "source": [
    "## Report Analysis\n",
    "The goal of this exploration is to assess wether a company report on climate change is up to the standards provided by EU."
   ]
  },
  {
   "cell_type": "markdown",
   "metadata": {},
   "source": [
    "### What is a good report?\n",
    "The ESRS (European Sustainability Reporting Standards) are an extensive set of standards provided by the EU to define how a climate change report should be built.\n",
    "For the sake of this exploration, we have a condensed version of these normes available.\n",
    "We also have an industry gold standard example of such a report available."
   ]
  },
  {
   "cell_type": "code",
   "execution_count": 3,
   "metadata": {},
   "outputs": [],
   "source": [
    "from ecoreporter.referencehandler import ReferenceHandler\n",
    "from ecoreporter import ROOT_PATH"
   ]
  },
  {
   "cell_type": "code",
   "execution_count": 4,
   "metadata": {},
   "outputs": [],
   "source": [
    "handler = ReferenceHandler(ROOT_PATH+ '/resources')"
   ]
  },
  {
   "cell_type": "code",
   "execution_count": 5,
   "metadata": {},
   "outputs": [],
   "source": [
    "instructions = handler.get_reference_text(\"E1-1_lawText.docx\")"
   ]
  },
  {
   "cell_type": "code",
   "execution_count": 6,
   "metadata": {},
   "outputs": [],
   "source": [
    "## Example of industry best practice report - content relevant is in pages 89-89 and 91\n",
    "example = handler.get_reference_text(\"Orsted-AR-2023.pdf\", [87,88,89,91])"
   ]
  },
  {
   "cell_type": "code",
   "execution_count": 7,
   "metadata": {},
   "outputs": [],
   "source": [
    "company_report = handler.get_reference_text(\"NHB23_Corporate_Responsibility_en.pdf\")"
   ]
  },
  {
   "cell_type": "code",
   "execution_count": 8,
   "metadata": {},
   "outputs": [],
   "source": [
    "from ecoreporter.contentevaluator import ContentEvaluator\n",
    "\n",
    "evaluator = ContentEvaluator(instructions, example)"
   ]
  },
  {
   "cell_type": "code",
   "execution_count": 9,
   "metadata": {},
   "outputs": [],
   "source": [
    "report_gaps = evaluator.evaluate_report_against_standards(company_report)"
   ]
  },
  {
   "cell_type": "code",
   "execution_count": 10,
   "metadata": {},
   "outputs": [],
   "source": [
    "gaps_examples = evaluator.extract_examples_of_report_components(report_gaps)"
   ]
  },
  {
   "cell_type": "code",
   "execution_count": 11,
   "metadata": {},
   "outputs": [],
   "source": [
    "evaluation = evaluator.format_final_evaluation(report_gaps, gaps_examples)"
   ]
  },
  {
   "cell_type": "code",
   "execution_count": 12,
   "metadata": {},
   "outputs": [
    {
     "data": {
      "text/markdown": [
       "### AI Response ###\n",
       "\n",
       "- **Transition Plan**: The report does not explicitly outline a detailed transition plan for climate change mitigation, which should include a high-level explanation of how TAKKT will adjust its strategy and business model to ensure compatibility with the transition to a sustainable economy and limiting global warming to 1.5°C. This plan should detail the steps TAKKT will take, aligning with the Paris Agreement and achieving climate neutrality by 2045. It should also include a timeline and specific milestones for achieving its GHG emission reduction targets.\n",
       "\n",
       "  - *'Our sustainability commitment and science-based net-zero target are anchored in our Sustainability Committee, chaired by the Chief Financial Officer.'*\n",
       "\n",
       "  - *'We are on track to phase out coal in 2024 and to reduce our scope 1-2 emissions intensity by 98 % by 2025 – two near-term milestones towards our science-based 2040 net-zero target.'*\n",
       "\n",
       "- **GHG Emission Reduction Targets**: While the report mentions a target of 50% reduction in greenhouse gas emissions by 2030 compared to 2021, it lacks a clear explanation of how these targets are compatible with the 1.5°C warming limit. The company should provide a benchmarking analysis against sectoral decarbonization pathways or an economy-wide scenario to demonstrate alignment with the objectives of the Paris Agreement.\n",
       "\n",
       "  - *'In 2021, Ørsted set a 2040 reduction target for scope 1-3 emissions and became the first energy company with a science-based net-zero target.'*\n",
       "\n",
       "  - *'As of today, we are on track to meet our near-term scope 1-2 intensity target, and we have already met our 2032 absolute scope 3 emissions target.'*\n",
       "\n",
       "- **Decarbonization Levers and Actions**: The report fails to provide a comprehensive explanation of the decarbonization levers identified and key actions planned. This should include specific measures TAKKT will implement, such as changes in product and service offerings, adoption of new technologies, and actions throughout the value chain to achieve its emission reduction targets.\n",
       "\n",
       "  - *'To address possible negative impacts in our value chain, we actively engage and partner with suppliers to mature low-emission solutions for our continued renewables build-out.'*\n",
       "\n",
       "  - *'We have identified and deployed several strategic levers to reduce emissions from our supply chains: Tracking and measuring carbon progress through the development of an in-house model for life cycle assessments (LCAs).'*\n",
       "\n",
       "- **Investment and Funding Information**: There is no detailed disclosure regarding the quantification of investments and funding supporting the implementation of the transition plan. The report should outline how much is being allocated to these initiatives, including capital expenditures aligned with sustainability goals and relevant key performance indicators.\n",
       "\n",
       "  - *'We have allocated 99 % of our capital expenditures (CAPEX) towards environmentally sustainable investments aligned with the EU taxonomy.'*\n",
       "\n",
       "- **Locked-in GHG Emissions Assessment**: The report does not contain a qualitative assessment of the potential locked-in GHG emissions from TAKKT's key assets and products. It should explain how these emissions could jeopardize the achievement of GHG reduction targets and detail plans for managing GHG-intensive and energy-intensive assets.\n",
       "\n",
       "\n",
       "\n",
       "- **Alignment with EU Taxonomy**: TAKKT needs to provide a clearer explanation of its plans for aligning economic activities with EU Taxonomy criteria, particularly regarding capital and operational expenditures. It should detail how these plans will evolve over time to support the transition to a sustainable economy.\n",
       "\n",
       "  - *'We have allocated 99 % of our capital expenditures (CAPEX) towards environmentally sustainable investments aligned with the EU taxonomy.'*\n",
       "\n",
       "- **Significant CapEx Disclosure**: The report lacks information on whether significant capital expenditures during the reporting period were related to coal, oil, and gas-related economic activities. This disclosure is vital for understanding the company’s financial commitment to sustainable practices.\n",
       "\n",
       "\n",
       "\n",
       "- **Paris-aligned Benchmarks Status**: The report does not state whether TAKKT is excluded from the EU Paris-aligned Benchmarks. This information is necessary to assess the company's alignment with the broader climate objectives set forth by the EU.\n",
       "\n",
       "\n",
       "\n",
       "- **Administrative Approval of the Transition Plan**: There is no mention of whether the transition plan has been approved by the administrative, management, and supervisory bodies. This approval is important to demonstrate that sustainability commitments are taken seriously at the highest levels of governance.\n",
       "\n",
       "  - *'Accountability lies with our Head of Global Stakeholder Relations and Chief Operating Officer.'*\n",
       "\n",
       "- **Progress Implementation Explanation**: The report provides limited information on the progress made in implementing the transition plan. A thorough explanation of achievements, challenges faced, and adjustments made to the plan is essential to provide stakeholders with a clear understanding of the company's efforts in climate change mitigation.\n",
       "\n",
       "  - *'We are on track to phase out coal in 2024 and to reduce our scope 1-2 emissions intensity by 98 % by 2025 – two near-term milestones towards our science-based 2040 net-zero target.'*"
      ],
      "text/plain": [
       "<IPython.core.display.Markdown object>"
      ]
     },
     "metadata": {},
     "output_type": "display_data"
    }
   ],
   "source": [
    "from IPython.display import Markdown, display\n",
    "\n",
    "# Render the AI response as Markdown\n",
    "display(Markdown(f\"### AI Response ###\\n\\n{evaluation}\"))\n"
   ]
  },
  {
   "cell_type": "code",
   "execution_count": null,
   "metadata": {},
   "outputs": [],
   "source": []
  }
 ],
 "metadata": {
  "kernelspec": {
   "display_name": "eco_reporting_venv_dev",
   "language": "python",
   "name": "python3"
  },
  "language_info": {
   "codemirror_mode": {
    "name": "ipython",
    "version": 3
   },
   "file_extension": ".py",
   "mimetype": "text/x-python",
   "name": "python",
   "nbconvert_exporter": "python",
   "pygments_lexer": "ipython3",
   "version": "3.11.11"
  }
 },
 "nbformat": 4,
 "nbformat_minor": 2
}
